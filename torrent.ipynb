import libtorrent as lt
import time
import os
import sys
import wget

def download_torrent(link):
    try:
        save_path = './Torrent/'  # Adjust this to the directory where files should be saved
        os.makedirs(save_path, exist_ok=True)

        params = {
            'save_path': save_path,
            'storage_mode': lt.storage_mode_t.storage_mode_sparse,
        }
        ses = lt.session()
        ses.listen_on(6881, 6891)

        # Handle .torrent files or magnet links
        if link.endswith('.torrent'):
            if os.path.exists('torrent.torrent'):
                os.remove('torrent.torrent')
            wget.download(link, 'torrent.torrent')
            t = Torrent.read('torrent.torrent')
            link = str(t.magnet(name=True, size=False, trackers=False, tracker=False))

        handle = lt.add_magnet_uri(ses, link, params)
        handle.set_sequential_download(False)
        ses.start_dht()

        print("Downloading Metadata...", end="\r")
        while not handle.has_metadata():
            time.sleep(1)
        print("Metadata Downloaded. Starting Torrent Download...", end="\r")

        start_time = time.time()
        while handle.status().state != lt.torrent_status.seeding:
            s = handle.status()
            progress = f"{s.progress * 100:.2f}% complete"
            download_rate = f"down: {s.download_rate / 1000:.1f} kB/s"
            upload_rate = f"up: {s.upload_rate / 1000:.1f} kB/s"
            peers = f"peers: {s.num_peers}"
            state = s.state
            sys.stdout.write(f"\r{progress} ({download_rate}, {upload_rate}, {peers}, state: {state}) ")
            sys.stdout.flush()
            time.sleep(1)

        elapsed = time.time() - start_time
        print(f"\n{handle.name()} COMPLETE")
        print(f"Elapsed Time: {int(elapsed // 60)} min {int(elapsed % 60)} sec")

        # Get the file location
        downloaded_file_path = os.path.join(save_path, handle.name())
        print(f"File downloaded to: {downloaded_file_path}")
        print(f"To download this file, access it directly from your server or use a web server to serve the file.")
        return downloaded_file_path

    except Exception as e:
        print(f"Error occurred: {e}")
        return None


if __name__ == "__main__":
    torrent_link = input("Input Torrent file link or Magnet link: ").strip()
    downloaded_file = download_torrent(torrent_link)

    if downloaded_file:
        # Optionally, provide a way to download the file if using a web server
        print(f"To download the file, use this path: {downloaded_file}")
